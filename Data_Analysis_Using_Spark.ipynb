{
  "nbformat": 4,
  "nbformat_minor": 0,
  "metadata": {
    "colab": {
      "name": "Data Analysis Using Spark.ipynb",
      "provenance": [],
      "collapsed_sections": [
        "jqISAS8V2abR",
        "n-atwINf24q9"
      ],
      "mount_file_id": "1D1-fW4OwPZFTbF2ATX7RvScxxhJ5-Kw2",
      "authorship_tag": "ABX9TyNbvrfRUkQetGOn+Kd0sb1V",
      "include_colab_link": true
    },
    "kernelspec": {
      "name": "python3",
      "display_name": "Python 3"
    },
    "language_info": {
      "name": "python"
    }
  },
  "cells": [
    {
      "cell_type": "markdown",
      "metadata": {
        "id": "view-in-github",
        "colab_type": "text"
      },
      "source": [
        "<a href=\"https://colab.research.google.com/github/AnuragGorkar/Data-Analysis-Documentations/blob/main/Data_Analysis_Using_Spark.ipynb\" target=\"_parent\"><img src=\"https://colab.research.google.com/assets/colab-badge.svg\" alt=\"Open In Colab\"/></a>"
      ]
    },
    {
      "cell_type": "markdown",
      "source": [
        "This notebook heavily follows the PySpark tutorial from the [Spark by {Examples}](https://sparkbyexamples.com/pyspark-tutorial/) website. However unlike the documentation there in this drive along with a detailed explaination of the functions we will also go through a practical project."
      ],
      "metadata": {
        "id": "T3QY8gq2_cq0"
      }
    },
    {
      "cell_type": "markdown",
      "source": [
        "To learn omre about RDD \"Resilient Distributed Datasets\" follow this [RDD tutorial](https://sparkbyexamples.com/pyspark-rdd/)"
      ],
      "metadata": {
        "id": "wwhTbBi0Eih6"
      }
    },
    {
      "cell_type": "markdown",
      "source": [
        "##Mount Drive"
      ],
      "metadata": {
        "id": "jqISAS8V2abR"
      }
    },
    {
      "cell_type": "code",
      "source": [
        "from google.colab import drive\n",
        "drive.mount('/gdrive')"
      ],
      "metadata": {
        "colab": {
          "base_uri": "https://localhost:8080/"
        },
        "id": "peYUumF62Vev",
        "outputId": "0dfedf9e-e1d0-4f42-b109-43804f06da3b"
      },
      "execution_count": null,
      "outputs": [
        {
          "output_type": "stream",
          "name": "stdout",
          "text": [
            "Mounted at /gdrive\n"
          ]
        }
      ]
    },
    {
      "cell_type": "markdown",
      "source": [
        "##Install PySpark"
      ],
      "metadata": {
        "id": "n-atwINf24q9"
      }
    },
    {
      "cell_type": "code",
      "source": [
        "!pip install pyspark"
      ],
      "metadata": {
        "colab": {
          "base_uri": "https://localhost:8080/"
        },
        "id": "YURolRCD2dcn",
        "outputId": "4de6462f-ab8c-42a1-93de-7a911dbe0ec1"
      },
      "execution_count": null,
      "outputs": [
        {
          "output_type": "stream",
          "name": "stdout",
          "text": [
            "Looking in indexes: https://pypi.org/simple, https://us-python.pkg.dev/colab-wheels/public/simple/\n",
            "Collecting pyspark\n",
            "  Downloading pyspark-3.3.0.tar.gz (281.3 MB)\n",
            "\u001b[K     |████████████████████████████████| 281.3 MB 46 kB/s \n",
            "\u001b[?25hCollecting py4j==0.10.9.5\n",
            "  Downloading py4j-0.10.9.5-py2.py3-none-any.whl (199 kB)\n",
            "\u001b[K     |████████████████████████████████| 199 kB 34.6 MB/s \n",
            "\u001b[?25hBuilding wheels for collected packages: pyspark\n",
            "  Building wheel for pyspark (setup.py) ... \u001b[?25l\u001b[?25hdone\n",
            "  Created wheel for pyspark: filename=pyspark-3.3.0-py2.py3-none-any.whl size=281764026 sha256=05f7e543c5af2423b46c035b7c8950f80eadae83c85c21f23c71eac6200d572c\n",
            "  Stored in directory: /root/.cache/pip/wheels/7a/8e/1b/f73a52650d2e5f337708d9f6a1750d451a7349a867f928b885\n",
            "Successfully built pyspark\n",
            "Installing collected packages: py4j, pyspark\n",
            "Successfully installed py4j-0.10.9.5 pyspark-3.3.0\n"
          ]
        }
      ]
    },
    {
      "cell_type": "markdown",
      "source": [
        "##Import Libraries"
      ],
      "metadata": {
        "id": "pj_zD0_W4MHB"
      }
    },
    {
      "cell_type": "code",
      "source": [
        "from pyspark.sql import SparkSession\n",
        "from pyspark.sql.functions import desc, count, col, max, struct, when, isnan\n",
        "import matplotlib.pyplot as plt"
      ],
      "metadata": {
        "id": "390Mgy3a28Zp"
      },
      "execution_count": null,
      "outputs": []
    },
    {
      "cell_type": "markdown",
      "source": [
        "##Spark Documentation codes"
      ],
      "metadata": {
        "id": "vDvloEGc8W1N"
      }
    },
    {
      "cell_type": "markdown",
      "source": [
        "[**SparkSession**](https://sparkbyexamples.com/pyspark/pyspark-what-is-sparksession/)\n",
        "\n",
        "> The SparkSession is an entry point to programming in spark.\n",
        "The SparkSession class has attribute **builder** which is an API to configure the spark session. Each session is associated with a unique application name (appName). We can have multiple spark sessions associated with a single spark application. The common use case is to keep relational entities seperate logically in catelogs per SparkSession.\n",
        "\n",
        "\n",
        "> The SparkSession allows for creating a dataframe based on RDD, creating a dataset, accessing a spark SQL query, loading a table and execute a DataFrameReader.\n",
        "\n",
        "\n",
        "\n",
        "\n"
      ],
      "metadata": {
        "id": "wtWrfMYU46xv"
      }
    },
    {
      "cell_type": "code",
      "source": [
        "spark = SparkSession.builder.appName(\"Spark Session\").getOrCreate()"
      ],
      "metadata": {
        "id": "47_iCEhJ3TFw"
      },
      "execution_count": null,
      "outputs": []
    },
    {
      "cell_type": "markdown",
      "source": [
        "Set path to the CSV file."
      ],
      "metadata": {
        "id": "RNlNbKUt_AKp"
      }
    },
    {
      "cell_type": "code",
      "source": [
        "listening_csv_path = \"/content/drive/MyDrive/Course Datasets/Data Analysis Using PySpark/listenings.csv\""
      ],
      "metadata": {
        "id": "Wun8OCaJ36GO"
      },
      "execution_count": null,
      "outputs": []
    },
    {
      "cell_type": "markdown",
      "source": [
        "[**spark.read()**](https://sparkbyexamples.com/pyspark/pyspark-read-csv-file-into-dataframe/)\n",
        "\n",
        "> The spark.read() function provides multiple options to read files fo different types: csv, json, paraquet, jdbc, orc, libsvm and, text.\n",
        "\n",
        "> The following options can be passed as attributes while reading a dataset:\n",
        "\n",
        "\n",
        "*   ***delimiter***\n",
        "> This option is used to specify the column delimiter of the CSV file. By default, it is **comma (,)**, but can be set to **pipe (|)**, **tab**, **space**, or any character using this option.\n",
        "\n",
        "*   ***inferSchema***\n",
        "> The default value set to this option is false when setting to true it automatically infers column types based on the data. Note that, it requires **reading the data one more time** to infer the schema.\n",
        "\n",
        "*   ***header***\n",
        "> This option is used to read the first line of the CSV file as column names. By default the value of this option is false , and all column types are assumed to be a string.\n",
        "\n",
        "*   ***nullValues***\n",
        "> Using nullValues option you can specify the string in a CSV to consider as null. For example, if you want to consider a date column with a value “1900-01-01” set null on DataFrame.\n",
        "\n",
        "*   ***dateFormat***\n",
        "> dateFormat option to used to set the format of the input DateType and TimestampType columns. Supports all java.text.SimpleDateFormat formats.\n",
        "\n",
        "\n",
        "\n",
        "\n"
      ],
      "metadata": {
        "id": "QuCX58_q_94d"
      }
    },
    {
      "cell_type": "code",
      "source": [
        "listening_df = spark.read.format(\"csv\").option(\"inferSchema\", True).option(\"header\", True).load(listening_csv_path)"
      ],
      "metadata": {
        "id": "L9jlRZVxDfIW"
      },
      "execution_count": null,
      "outputs": []
    },
    {
      "cell_type": "markdown",
      "source": [
        "**Read multiple CSV files**\n",
        "\n",
        "> Using the spark.read.csv() method you can also read multiple CSV files, just pass all file names by separating comma as a path, for example \n",
        "\n",
        "```\n",
        "val df = spark.read.csv(\"path1,path2,path3\")\n",
        "```"
      ],
      "metadata": {
        "id": "V5efb6bfHHlB"
      }
    },
    {
      "cell_type": "markdown",
      "source": [
        "**Read all CSV files in directory**\n",
        "\n",
        ">  We can read all CSV files from a directory into DataFrame just by passing the directory as a path to the csv() method.\n",
        "\n",
        "```\n",
        "val df = spark.read.csv(\"Folder path\")\n",
        "```"
      ],
      "metadata": {
        "id": "7Qfv_e77HaGV"
      }
    },
    {
      "cell_type": "markdown",
      "source": [
        "The type of the dataframe that is returned is a pyspark.DataFrame, which is different from a pandas.DataFrame in the sense that it is a distributed dataframe unlike the pandas.DataFrame. This provides the same **backend execution engine** thus we get similar performance irrespective of the API/language used. The dataframe provides a level of abstraction over the spark RDD."
      ],
      "metadata": {
        "id": "LorXXs6DH2sB"
      }
    },
    {
      "cell_type": "markdown",
      "source": [
        "![Screenshot 2022-08-02 162014.png](data:image/png;base64,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)"
      ],
      "metadata": {
        "id": "E0bZzh-jLVAr"
      }
    },
    {
      "cell_type": "code",
      "source": [
        "print(listening_df)"
      ],
      "metadata": {
        "colab": {
          "base_uri": "https://localhost:8080/"
        },
        "id": "UXbmfTSjK_9R",
        "outputId": "a6bfc93f-e9ec-48e1-f928-b50ba0673e87"
      },
      "execution_count": null,
      "outputs": [
        {
          "output_type": "stream",
          "name": "stdout",
          "text": [
            "DataFrame[user_id: string, track: string, artist: string, album: string]\n"
          ]
        }
      ]
    },
    {
      "cell_type": "code",
      "source": [
        "print(f\"The data type returned by the read.csv() function is as folows {type(listening_df)}.\")"
      ],
      "metadata": {
        "id": "9VnMlmonDva8"
      },
      "execution_count": null,
      "outputs": []
    },
    {
      "cell_type": "markdown",
      "source": [
        "[**df.show()**](https://sparkbyexamples.com/spark/spark-show-display-dataframe-contents-in-table/) function to display the spark dataframe."
      ],
      "metadata": {
        "id": "Zf5TJfWOI_-9"
      }
    },
    {
      "cell_type": "code",
      "source": [
        "listening_df.show()"
      ],
      "metadata": {
        "id": "JW_REs0VISNW"
      },
      "execution_count": null,
      "outputs": []
    },
    {
      "cell_type": "code",
      "source": [
        "#Show to first (top) 'N' rows in the dataset\n",
        "listening_df.show(10)"
      ],
      "metadata": {
        "id": "DwWclwm89yIW"
      },
      "execution_count": null,
      "outputs": []
    },
    {
      "cell_type": "markdown",
      "source": [
        "[**df.dtypes**](https://sparkbyexamples.com/pyspark/pyspark-find-datatype-column-names-of-dataframe/) attribute to displlay the data types of all the columns in the spark data frame."
      ],
      "metadata": {
        "id": "7Fpeqt1sMBMf"
      }
    },
    {
      "cell_type": "code",
      "source": [
        "# This returns a list of tuples with the [([column_name], [data_type]), ...]\n",
        "listening_df.dtypes"
      ],
      "metadata": {
        "id": "6agJguxIJI-L"
      },
      "execution_count": null,
      "outputs": []
    },
    {
      "cell_type": "markdown",
      "source": [
        "[**df.printSchema()**](https://sparkbyexamples.com/pyspark/pyspark-printschema-example/) function of the spark dataframe object is used to display the schema of the spark dataframe."
      ],
      "metadata": {
        "id": "BP65ybCsMk8N"
      }
    },
    {
      "cell_type": "code",
      "source": [
        "listening_df.printSchema()"
      ],
      "metadata": {
        "id": "yuseGCzNMPsG"
      },
      "execution_count": null,
      "outputs": []
    },
    {
      "cell_type": "markdown",
      "source": [
        "[**df.columns**](https://spark.apache.org/docs/3.1.3/api/python/reference/api/pyspark.sql.DataFrame.columns.html) attribute of the spark dataframe is used to return a list of all the columns in the dataframe."
      ],
      "metadata": {
        "id": "p_-hLVK8P_ME"
      }
    },
    {
      "cell_type": "code",
      "source": [
        "print(f\"The columns in the dataframe {listening_df.columns} are returned as a {type(listening_df.columns)}.\")"
      ],
      "metadata": {
        "id": "OcFvA1_SOdkU"
      },
      "execution_count": null,
      "outputs": []
    },
    {
      "cell_type": "markdown",
      "source": [
        "[**df.count()**](https://www.geeksforgeeks.org/get-number-of-rows-and-columns-of-pyspark-dataframe/) function returns the total number of rows in the dataset. The return type of the function is integer/number"
      ],
      "metadata": {
        "id": "RICETB1sNr2F"
      }
    },
    {
      "cell_type": "code",
      "source": [
        "shape = (listening_df.count(), len(listening_df.columns))\n",
        "print(f\"The shape of the dataframe is {shape}.\")"
      ],
      "metadata": {
        "colab": {
          "base_uri": "https://localhost:8080/"
        },
        "id": "CYu3Zmj5NrQs",
        "outputId": "8abc0ab3-88c1-4f5a-a37b-6ce41796539e"
      },
      "execution_count": null,
      "outputs": [
        {
          "output_type": "stream",
          "name": "stdout",
          "text": [
            "The shape of the dataframe is (14650594, 4).\n"
          ]
        }
      ]
    },
    {
      "cell_type": "markdown",
      "source": [
        "For this example the ***date*** column in the dataframe is considered irrelevant, thus we drop it from the dataframe."
      ],
      "metadata": {
        "id": "EPbUVU0rN79M"
      }
    },
    {
      "cell_type": "code",
      "source": [
        "listening_df = listening_df.drop(\"date\") #This returns a new spark dataframe which can be stored in a variable"
      ],
      "metadata": {
        "id": "zKdzLzN2MzNY"
      },
      "execution_count": null,
      "outputs": []
    },
    {
      "cell_type": "code",
      "source": [
        "#Show the new dataframe\n",
        "shape = (listening_df.count(), len(listening_df.columns))\n",
        "print(f\"The shape of the dataframe after dropping the 'date' column is {shape}.\\n\")\n",
        "listening_df.show()"
      ],
      "metadata": {
        "id": "2ntWTSbNOYAb"
      },
      "execution_count": null,
      "outputs": []
    },
    {
      "cell_type": "markdown",
      "source": [
        "[**df.limit()**](https://sparkbyexamples.com/spark/show-top-n-rows-in-spark-pyspark/) In PySpark, limit() is a DataFrame transformation that returns a DataFrame with top N rows, for Spark with Scala/Java it returns a Dataset."
      ],
      "metadata": {
        "id": "pJHstXOWDwxL"
      }
    },
    {
      "cell_type": "code",
      "source": [
        "subset_df = listening_df.limit(10)\n",
        "subset_shape = (subset_df.count(), len(subset_df.columns))\n",
        "print(f\"The shape of the subset dataframe is {subset_shape}.\")"
      ],
      "metadata": {
        "colab": {
          "base_uri": "https://localhost:8080/"
        },
        "id": "iYzxcKb5EQAR",
        "outputId": "f58daeca-5ff7-4e81-d3bb-cc6eb12305d3"
      },
      "execution_count": null,
      "outputs": [
        {
          "output_type": "stream",
          "name": "stdout",
          "text": [
            "The shape of the subset dataframe is (10, 4).\n"
          ]
        }
      ]
    },
    {
      "cell_type": "markdown",
      "source": [
        "This [article](https://sparkbyexamples.com/spark/show-top-n-rows-in-spark-pyspark/) gives detailed information regarding the following functions in spark dataframe:\n",
        "\n",
        "*   take()\n",
        "*   tail()\n",
        "*   collect()\n",
        "*   head()\n",
        "*   first()"
      ],
      "metadata": {
        "id": "Mpd04yo9E20g"
      }
    },
    {
      "cell_type": "markdown",
      "source": [
        "[**df.select()**](https://sparkbyexamples.com/pyspark/select-columns-from-pyspark-dataframe/) function in PySpark allows you to select a particular column in the dataframe. The select function in PySpark is a transformation function which returns a dataframe which is immutable."
      ],
      "metadata": {
        "id": "ywyAylqCE1lP"
      }
    },
    {
      "cell_type": "code",
      "source": [
        "# As the select() function returns a dataframe we can use other dataframe functions on it (like .show() here)\n",
        "listening_df.select(\"artist\", \"album\").show(30)\n",
        "# Columns can also be selected using the column attribute in Spark\n",
        "listening_df.select(col(\"artist\"), col(\"album\")).show(20)"
      ],
      "metadata": {
        "id": "9nsyXqxQFDsw"
      },
      "execution_count": null,
      "outputs": []
    },
    {
      "cell_type": "markdown",
      "source": [
        "[**df.colRegex()**](https://spark.apache.org/docs/3.2.1/api/python/reference/api/pyspark.sql.DataFrame.colRegex.html) function in the dataframe allows us to select the columns using a specific regular expression\n",
        "\n",
        "\n",
        "---\n",
        "\n",
        "Use this website to learn, implement and test regular expressions [Pythex](https://pythex.org/)"
      ],
      "metadata": {
        "id": "52gluYdRGYG_"
      }
    },
    {
      "cell_type": "code",
      "source": [
        "listening_df.select(listening_df.colRegex(\"`^*a*`\")).show(10)"
      ],
      "metadata": {
        "id": "XUmE7nweGnbY"
      },
      "execution_count": null,
      "outputs": []
    },
    {
      "cell_type": "code",
      "source": [
        "#To select all columns from the list \n",
        "listening_df.select(\"*\").show(5)\n",
        "listening_df.select([col for col in listening_df.columns]).show(10)"
      ],
      "metadata": {
        "colab": {
          "base_uri": "https://localhost:8080/"
        },
        "id": "b44SRIBSL9ku",
        "outputId": "d2f719d4-1ca3-4e1b-9865-d80ded7afa8a"
      },
      "execution_count": null,
      "outputs": [
        {
          "output_type": "stream",
          "name": "stdout",
          "text": [
            "+-----------+--------------------+---------+-----------------+\n",
            "|    user_id|               track|   artist|            album|\n",
            "+-----------+--------------------+---------+-----------------+\n",
            "|000Silenced|           Price Tag| Jessie J|      Who You Are|\n",
            "|000Silenced|Price Tag (Acoust...| Jessie J|        Price Tag|\n",
            "|000Silenced|Be Mine! (Ballad ...|    Robyn|         Be Mine!|\n",
            "|000Silenced|            Acapella|    Kelis|         Acapella|\n",
            "|000Silenced|   I'm Not Invisible|The Tease|I'm Not Invisible|\n",
            "+-----------+--------------------+---------+-----------------+\n",
            "only showing top 5 rows\n",
            "\n",
            "+-----------+--------------------+------------+--------------------+\n",
            "|    user_id|               track|      artist|               album|\n",
            "+-----------+--------------------+------------+--------------------+\n",
            "|000Silenced|           Price Tag|    Jessie J|         Who You Are|\n",
            "|000Silenced|Price Tag (Acoust...|    Jessie J|           Price Tag|\n",
            "|000Silenced|Be Mine! (Ballad ...|       Robyn|            Be Mine!|\n",
            "|000Silenced|            Acapella|       Kelis|            Acapella|\n",
            "|000Silenced|   I'm Not Invisible|   The Tease|   I'm Not Invisible|\n",
            "|000Silenced|Bounce (Feat NORE...|    MSTRKRFT|         Fist of God|\n",
            "|000Silenced|Don't Stop The Mu...|     Rihanna|Addicted 2 Bassli...|\n",
            "|000Silenced|               ObZen|   Meshuggah|               ObZen|\n",
            "|000Silenced|   Yama's Messengers|      Gojira|The Way of All Flesh|\n",
            "|000Silenced|On the Brink of E...|Napalm Death|Time Waits For No...|\n",
            "+-----------+--------------------+------------+--------------------+\n",
            "only showing top 10 rows\n",
            "\n"
          ]
        }
      ]
    },
    {
      "cell_type": "markdown",
      "source": [
        "**distinct()** function in spark returns a dataframe with distinct values for each column. "
      ],
      "metadata": {
        "id": "5W0HJSrJm3yr"
      }
    },
    {
      "cell_type": "markdown",
      "source": [
        "Select nested **Struct** column from PySpark"
      ],
      "metadata": {
        "id": "STIN-nL0MfHC"
      }
    },
    {
      "cell_type": "markdown",
      "source": [
        "**Difference between Null and NaN in python**\n",
        "\n",
        "*   NaN can be used as a numerical value on mathematical operations, while None cannot (or at least shouldn't).\n",
        "\n",
        "*   NaN is a numeric value, as defined in IEEE 754 floating-point standard. None is an internal Python type (NoneType) and would be more like \"inexistent\" or \"empty\" than \"numerically invalid\" in this context.\n",
        "\n",
        "*   In Python None is equal to null value.\n",
        "\n",
        "\n",
        "\n",
        "\n",
        "\n"
      ],
      "metadata": {
        "id": "fLc9AIPVRS0J"
      }
    },
    {
      "cell_type": "code",
      "source": [
        "#Drop all the rows which have NA values in the dataframe\n",
        "listening_df = listening_df.na.drop()"
      ],
      "metadata": {
        "id": "njLvvOB8QEz5"
      },
      "execution_count": null,
      "outputs": []
    },
    {
      "cell_type": "markdown",
      "source": [
        "**Count the NULL / NA / empty values in the dataset**\n",
        "\n",
        "For this code we use the following functions:\n",
        "*   [select()](https://sparkbyexamples.com/pyspark/select-columns-from-pyspark-dataframe/)\n",
        "*   [alias()](https://sparkbyexamples.com/pyspark/pyspark-alias-column-examples/)\n",
        "*   [count()](https://sparkbyexamples.com/pyspark/pyspark-count-distinct-from-dataframe/)\n",
        "*   [when().otherwise()](https://sparkbyexamples.com/pyspark/pyspark-when-otherwise/)\n",
        "\n",
        "\n",
        "---\n",
        "This code line basically selects the columns from the datafrane by iterating through the columns list from the dataframe. For each column in the dataframe we count the number of rows which satisfy the conditions using when().otherwise() functions provided by pyspark.sql.functions.\n",
        "\n",
        "\n",
        "\n",
        "\n",
        "\n"
      ],
      "metadata": {
        "id": "5jwUPKsJOsm8"
      }
    },
    {
      "cell_type": "code",
      "source": [
        "listening_df.select([count(when(col(c).contains('None') | \n",
        "                                col(c).contains('Null') | \n",
        "                                (col(c) == \"\") | \n",
        "                                (col(c) == '' ) | \n",
        "                                col(c).isNull() | \n",
        "                                isnan(c), c \n",
        "                                )).alias(c) \n",
        "                                for c in listening_df.columns]).show()"
      ],
      "metadata": {
        "colab": {
          "base_uri": "https://localhost:8080/"
        },
        "id": "3NjQalTPP_sl",
        "outputId": "28d8517a-7811-4866-ba01-eb8bc9d59063"
      },
      "execution_count": null,
      "outputs": [
        {
          "output_type": "stream",
          "name": "stdout",
          "text": [
            "+-------+-----+------+-----+\n",
            "|user_id|track|artist|album|\n",
            "+-------+-----+------+-----+\n",
            "|    196| 2394|  1422| 3928|\n",
            "+-------+-----+------+-----+\n",
            "\n"
          ]
        }
      ]
    },
    {
      "cell_type": "code",
      "source": [
        "#Select two columns artist and track from the dataframe\n",
        "temp_df = listening_df.select(\"artist\", \"track\")"
      ],
      "metadata": {
        "id": "SeGH0j6mlqSb"
      },
      "execution_count": null,
      "outputs": []
    },
    {
      "cell_type": "code",
      "source": [
        "temp_df.show()"
      ],
      "metadata": {
        "colab": {
          "base_uri": "https://localhost:8080/"
        },
        "id": "PV-b3Ii4mB4D",
        "outputId": "2b81fbd4-b9d7-4bd0-cac5-ffca2d05a42b"
      },
      "execution_count": null,
      "outputs": [
        {
          "output_type": "stream",
          "name": "stdout",
          "text": [
            "+---------------+--------------------+\n",
            "|         artist|               track|\n",
            "+---------------+--------------------+\n",
            "|       Jessie J|           Price Tag|\n",
            "|       Jessie J|Price Tag (Acoust...|\n",
            "|          Robyn|Be Mine! (Ballad ...|\n",
            "|          Kelis|            Acapella|\n",
            "|      The Tease|   I'm Not Invisible|\n",
            "|       MSTRKRFT|Bounce (Feat NORE...|\n",
            "|        Rihanna|Don't Stop The Mu...|\n",
            "|      Meshuggah|               ObZen|\n",
            "|         Gojira|   Yama's Messengers|\n",
            "|   Napalm Death|On the Brink of E...|\n",
            "|   Napalm Death|On the Brink of E...|\n",
            "|   Napalm Death|        In Deference|\n",
            "|    Decapitated|      Post(?)organic|\n",
            "|   Dom & Roland|        Mind Feeders|\n",
            "|Cannibal Corpse|Necrosadistic War...|\n",
            "|   Dom & Roland|     Dance All Night|\n",
            "|   Dom & Roland|          Late Night|\n",
            "|   Dom & Roland|          Freak Seen|\n",
            "|   Dom & Roland|Paradrenasite (Hi...|\n",
            "|   Dom & Roland|               Rhino|\n",
            "+---------------+--------------------+\n",
            "only showing top 20 rows\n",
            "\n"
          ]
        }
      ]
    },
    {
      "cell_type": "code",
      "source": [
        ""
      ],
      "metadata": {
        "id": "OD6rMt_WmGRV"
      },
      "execution_count": null,
      "outputs": []
    },
    {
      "cell_type": "markdown",
      "source": [
        "**df.collect()** is an action operation that is used to retrieve all the elements of the dataset (from all nodes) to the driver node. We should use the collect() on smaller dataset usually after filter(), group() e.t.c. Retrieving larger datasets results in OutOfMemory error.\n",
        "\n",
        "> It does not return a DataFrame instead, it returns data in an Array to the driver. Once the data is in an array, you can use python for loop to process it further.\n",
        "\n",
        "\n",
        "\n"
      ],
      "metadata": {
        "id": "SP8LH5PApQDn"
      }
    }
  ]
}